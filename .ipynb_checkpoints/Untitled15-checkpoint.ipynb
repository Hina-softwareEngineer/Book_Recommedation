{
 "cells": [
  {
   "cell_type": "code",
   "execution_count": 1,
   "metadata": {},
   "outputs": [
    {
     "name": "stdout",
     "output_type": "stream",
     "text": [
      "importing Jupyter notebook from Untitled14.ipynb\n"
     ]
    }
   ],
   "source": [
    "# -*- coding: utf-8 -*-\n",
    "\n",
    "# Form implementation generated from reading ui file 'welcome.ui'\n",
    "#\n",
    "# Created by: PyQt5 UI code generator 5.9.2\n",
    "#\n",
    "# WARNING! All changes made in this file will be lost!\n",
    "\n",
    "from PyQt5 import QtCore, QtGui, QtWidgets\n",
    "import import_ipynb \n",
    "from Untitled14 import Ui_Function\n",
    "class Ui_welcome(object):\n",
    "    def openfunc(self):\n",
    "        self.window = QtWidgets.QMainWindow()\n",
    "        self.ui = Ui_Function()\n",
    "        self.ui.setupUi(self.window)\n",
    "        welcome.hide()\n",
    "        self.window.show()\n",
    "    def setupUi(self, welcome):\n",
    "        welcome.setObjectName(\"welcome\")\n",
    "        welcome.resize(739, 600)\n",
    "        welcome.setStyleSheet(\"Background-color: #696969;\")\n",
    "        self.centralwidget = QtWidgets.QWidget(welcome)\n",
    "        self.centralwidget.setObjectName(\"centralwidget\")\n",
    "        self.label = QtWidgets.QLabel(self.centralwidget)\n",
    "        self.label.setGeometry(QtCore.QRect(70, 90, 601, 61))\n",
    "        self.label.setStyleSheet(\"\\n\"\n",
    "\"font-family: Lucida Console;\\n\"\n",
    "\"font-size: 25px;\\n\"\n",
    "\"font-weight: bold;\\n\"\n",
    "\"font-style: italic;\\n\"\n",
    "\"color: #ffffff;\\n\"\n",
    "\"\")\n",
    "        self.label.setObjectName(\"label\")\n",
    "        self.pushButton = QtWidgets.QPushButton(self.centralwidget)\n",
    "        self.pushButton.setGeometry(QtCore.QRect(240, 250, 281, 71))\n",
    "        self.pushButton.setStyleSheet(\"QPushButton{\\n\"\n",
    "\"color: #ffffff;\\n\"\n",
    "\"background-color: #ff6347;\\n\"\n",
    "\"Border-radius: 30px;\\n\"\n",
    "\"font-size:30px\\n\"\n",
    "\"}\\n\"\n",
    "\"QPushButton:hover{\\n\"\n",
    "\"color: #ffffff;\\n\"\n",
    "\"background-color: #ff6347;\\n\"\n",
    "\"Border-radius: 30px;\\n\"\n",
    "\"background-color: #ff4500;\\n\"\n",
    "\"font-weight: bold;\\n\"\n",
    "\"}\")\n",
    "        self.pushButton.setObjectName(\"pushButton\")\n",
    "        self.pushButton.clicked.connect(self.openfunc)\n",
    "        welcome.setCentralWidget(self.centralwidget)\n",
    "\n",
    "        self.retranslateUi(welcome)\n",
    "        QtCore.QMetaObject.connectSlotsByName(welcome)\n",
    "\n",
    "    def retranslateUi(self, welcome):\n",
    "        _translate = QtCore.QCoreApplication.translate\n",
    "        welcome.setWindowTitle(_translate(\"welcome\", \"MainWindow\"))\n",
    "        self.label.setText(_translate(\"welcome\", \"Welcome To Book Recommendation System\"))\n",
    "        self.pushButton.setText(_translate(\"welcome\", \"Let\\'s get started\"))\n",
    "\n",
    "\n",
    "if __name__ == \"__main__\":\n",
    "    import sys\n",
    "    app = QtWidgets.QApplication(sys.argv)\n",
    "    welcome = QtWidgets.QMainWindow()\n",
    "    ui = Ui_welcome()\n",
    "    ui.setupUi(welcome)\n",
    "    welcome.show()\n",
    "    app.exec_()"
   ]
  },
  {
   "cell_type": "code",
   "execution_count": 1,
   "metadata": {},
   "outputs": [
    {
     "name": "stdout",
     "output_type": "stream",
     "text": [
      "Collecting Untitled14\n",
      "Note: you may need to restart the kernel to use updated packages.\n"
     ]
    },
    {
     "name": "stderr",
     "output_type": "stream",
     "text": [
      "  ERROR: Could not find a version that satisfies the requirement Untitled14 (from versions: none)\n",
      "ERROR: No matching distribution found for Untitled14\n"
     ]
    }
   ],
   "source": []
  },
  {
   "cell_type": "code",
   "execution_count": null,
   "metadata": {},
   "outputs": [],
   "source": []
  }
 ],
 "metadata": {
  "kernelspec": {
   "display_name": "Python 3",
   "language": "python",
   "name": "python3"
  },
  "language_info": {
   "codemirror_mode": {
    "name": "ipython",
    "version": 3
   },
   "file_extension": ".py",
   "mimetype": "text/x-python",
   "name": "python",
   "nbconvert_exporter": "python",
   "pygments_lexer": "ipython3",
   "version": "3.7.4"
  }
 },
 "nbformat": 4,
 "nbformat_minor": 2
}
