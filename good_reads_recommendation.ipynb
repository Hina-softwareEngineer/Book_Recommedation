{
 "cells": [
  {
   "cell_type": "markdown",
   "metadata": {},
   "source": [
    "# sigmoid Kernel"
   ]
  },
  {
   "cell_type": "code",
   "execution_count": 7,
   "metadata": {},
   "outputs": [
    {
     "data": {
      "text/html": [
       "<div>\n",
       "<style scoped>\n",
       "    .dataframe tbody tr th:only-of-type {\n",
       "        vertical-align: middle;\n",
       "    }\n",
       "\n",
       "    .dataframe tbody tr th {\n",
       "        vertical-align: top;\n",
       "    }\n",
       "\n",
       "    .dataframe thead th {\n",
       "        text-align: right;\n",
       "    }\n",
       "</style>\n",
       "<table border=\"1\" class=\"dataframe\">\n",
       "  <thead>\n",
       "    <tr style=\"text-align: right;\">\n",
       "      <th></th>\n",
       "      <th>Id</th>\n",
       "      <th>Book_id</th>\n",
       "      <th>Best_Book_Id</th>\n",
       "      <th>Original_Title</th>\n",
       "      <th>Description</th>\n",
       "    </tr>\n",
       "  </thead>\n",
       "  <tbody>\n",
       "    <tr>\n",
       "      <td>0</td>\n",
       "      <td>1</td>\n",
       "      <td>13624209</td>\n",
       "      <td>210834</td>\n",
       "      <td>Kim</td>\n",
       "      <td>Kim is set in an imperialistic world; a world ...</td>\n",
       "    </tr>\n",
       "    <tr>\n",
       "      <td>1</td>\n",
       "      <td>2</td>\n",
       "      <td>846427</td>\n",
       "      <td>846429</td>\n",
       "      <td>Classical Mythology</td>\n",
       "      <td>Featuring the authors' extensive, clear, and f...</td>\n",
       "    </tr>\n",
       "    <tr>\n",
       "      <td>2</td>\n",
       "      <td>3</td>\n",
       "      <td>969335</td>\n",
       "      <td>241664</td>\n",
       "      <td>Clara Callan</td>\n",
       "      <td>In a small town in Canada, Clara Callan reluct...</td>\n",
       "    </tr>\n",
       "    <tr>\n",
       "      <td>3</td>\n",
       "      <td>4</td>\n",
       "      <td>3767482</td>\n",
       "      <td>1508654</td>\n",
       "      <td>Decision in Normandy</td>\n",
       "      <td>Here, for the first time in paperback, is an o...</td>\n",
       "    </tr>\n",
       "    <tr>\n",
       "      <td>4</td>\n",
       "      <td>5</td>\n",
       "      <td>893390</td>\n",
       "      <td>763331</td>\n",
       "      <td>Flu: The Story of the Great Influenza Pandemic</td>\n",
       "      <td>The fascinating, true story of the world's dea...</td>\n",
       "    </tr>\n",
       "  </tbody>\n",
       "</table>\n",
       "</div>"
      ],
      "text/plain": [
       "   Id   Book_id Best_Book_Id                                  Original_Title  \\\n",
       "0   1  13624209       210834                                             Kim   \n",
       "1   2    846427       846429                             Classical Mythology   \n",
       "2   3    969335       241664                                    Clara Callan   \n",
       "3   4   3767482      1508654                            Decision in Normandy   \n",
       "4   5    893390       763331  Flu: The Story of the Great Influenza Pandemic   \n",
       "\n",
       "                                         Description  \n",
       "0  Kim is set in an imperialistic world; a world ...  \n",
       "1  Featuring the authors' extensive, clear, and f...  \n",
       "2  In a small town in Canada, Clara Callan reluct...  \n",
       "3  Here, for the first time in paperback, is an o...  \n",
       "4  The fascinating, true story of the world's dea...  "
      ]
     },
     "execution_count": 7,
     "metadata": {},
     "output_type": "execute_result"
    }
   ],
   "source": [
    "import pandas as pd\n",
    "from sklearn.metrics.pairwise import sigmoid_kernel\n",
    "from sklearn.feature_extraction.text import TfidfVectorizer\n",
    "\n",
    "#Get the data\n",
    "columns=['Id','Book_id','Best_Book_Id','Original_Title','Description']\n",
    "# reading file\n",
    "book_description = pd.read_excel('/home/hina/Downloads/Dataset/book_data.xlsx',sep='',usecols=columns)\n",
    "# checking if we have the right data\n",
    "book_description.head()\n",
    "\n"
   ]
  },
  {
   "cell_type": "code",
   "execution_count": 8,
   "metadata": {},
   "outputs": [
    {
     "data": {
      "text/plain": [
       "(5001, 44582)"
      ]
     },
     "execution_count": 8,
     "metadata": {},
     "output_type": "execute_result"
    }
   ],
   "source": [
    "# removing the stop words\n",
    "books_tfidf = TfidfVectorizer(stop_words='english')\n",
    "# filling the missing values with empty string\n",
    "book_description['Description'] = book_description['Description'].fillna('')\n",
    "# computing TF-IDF matrix required for calculating cosine similarity\n",
    "book_description_matrix = books_tfidf.fit_transform(book_description['Description'])\n",
    "book_description_matrix.shape"
   ]
  },
  {
   "cell_type": "code",
   "execution_count": 9,
   "metadata": {},
   "outputs": [
    {
     "name": "stdout",
     "output_type": "stream",
     "text": [
      "(2161, 0.7615955032164635)\n",
      "(1762, 0.7615951119181229)\n",
      "(4663, 0.7615951037539098)\n",
      "(4013, 0.7615950929815997)\n",
      "(1515, 0.7615949745749758)\n"
     ]
    },
    {
     "data": {
      "text/plain": [
       "2161                                           Sea Glass\n",
       "1762    Cerulean Sins (Anita Blake, Vampire Hunter, #11)\n",
       "4663                                 The Laughing Corpse\n",
       "4013                                              Malice\n",
       "1515                                         Alias Grace\n",
       "Name: Original_Title, dtype: object"
      ]
     },
     "execution_count": 9,
     "metadata": {},
     "output_type": "execute_result"
    }
   ],
   "source": [
    "# computing cosine similarity matrix using linear_kernal of sklearn\n",
    "cosine_similarity = sigmoid_kernel(book_description_matrix, book_description_matrix)\n",
    "# In[6]:\n",
    "indices = pd.Series(book_description['Original_Title'].index)\n",
    "# In[7]:\n",
    "# Function to get the most similar books\n",
    "def recommend(index, cosine_sim=cosine_similarity):\n",
    "    id = indices[index]\n",
    "    # Get the pairwsie similarity scores of all books compared to that book, \n",
    "    # sorting them and getting top 5\n",
    "    similarity_scores = list(enumerate(cosine_sim[id]))\n",
    "    similarity_scores = sorted(similarity_scores, key=lambda x: x[1], reverse=True)\n",
    "    similarity_scores = similarity_scores[1:6]\n",
    "    for i in similarity_scores:\n",
    "        print(i)\n",
    "    # Get the books index\n",
    "    books_index = [i[0] for i in similarity_scores]\n",
    "\n",
    "    # Return the top 5 most similar books using integer-location based indexing (iloc)\n",
    "    return book_description['Original_Title'].iloc[books_index]\n",
    "# In[8]:\n",
    "# getting recommendation for book at index 2\n",
    "recommend(121)"
   ]
  },
  {
   "cell_type": "markdown",
   "metadata": {},
   "source": [
    "# Linear Kernel "
   ]
  },
  {
   "cell_type": "code",
   "execution_count": 35,
   "metadata": {},
   "outputs": [
    {
     "name": "stdout",
     "output_type": "stream",
     "text": [
      "Recommending 10 books similar to Flu: The Story of the Great Influenza Pandemic\n",
      "----------------------------------------------------------\n",
      "You may also like to read: Darwin's Radio (score:0.05116896834391612)\n",
      "You may also like to read: The Tipping Point: How Little Things Can Make a Big Difference (score:0.0320391497044297)\n",
      "You may also like to read: The Amber Spyglass (score:0.024156569159928126)\n"
     ]
    }
   ],
   "source": [
    "from sklearn.metrics.pairwise import cosine_similarity\n",
    "import pandas as pd\n",
    "from sklearn.metrics.pairwise import linear_kernel\n",
    "from sklearn.feature_extraction.text import TfidfVectorizer\n",
    "\n",
    "columns=['Id','Book_id','Best_Book_Id','Original_Title','Description']\n",
    "\n",
    "ds = pd.read_excel(\"/home/hina/Downloads/Dataset/book_data.xlsx\",sep='',usecols=columns) #you can plug in your own list of products or movies or books here as csv file\n",
    "tf = TfidfVectorizer(analyzer='word', ngram_range=(1, 3), min_df=0, stop_words='english')\n",
    "######ngram (1,3) can be explained as follows#####\n",
    "#ngram(1,3) encompasses uni gram, bi gram and tri gram\n",
    "#consider the sentence \"The ball fell\"\n",
    "#ngram (1,3) would be the, ball, fell, the ball, ball fell, the ball fell\n",
    "\n",
    "tfidf_matrix = tf.fit_transform(ds[\"Description\"].values.astype('U'))\n",
    "cosine_similarities = cosine_similarity(tfidf_matrix,tfidf_matrix)\n",
    "\n",
    "results = {} # dictionary created to store the result in a dictionary format (ID : (Score,item_id))\n",
    "\n",
    "for idx, row in ds.iterrows(): #iterates through all the rows\n",
    "    # the below code 'similar_indice' stores similar ids based on cosine similarity. sorts them in ascending order. [:-5:-1] is then used so that the indices with most similarity are got. 0 means no similarity and 1 means perfect similarity\n",
    "    similar_indices = cosine_similarities[idx].argsort()[:-5:-1] #stores 5 most similar books, you can change it as per your needs\n",
    "    similar_items = [(cosine_similarities[idx][i], ds['Id'][i]) for i in similar_indices]\n",
    "    results[row['Id']] = similar_items[1:]\n",
    "    \n",
    "#below code 'function item(id)' returns a row matching the id along with Book Title. Initially it is a dataframe, then we convert it to a list\n",
    "def item(id):\n",
    "    return ds.loc[ds['Id'] == id]['Original_Title'].tolist()[0]\n",
    "def recommend(id, num):\n",
    "    if (num == 0):\n",
    "        print(\"Unable to recommend any book as you have not chosen the number of book to be recommended\")\n",
    "    elif (num==1):\n",
    "        print(\"Recommending \" + str(num) + \" book similar to \" + item(id))\n",
    "        \n",
    "    else :\n",
    "        print(\"Recommending \" + str(num) + \" books similar to \" + item(id))\n",
    "        \n",
    "    print(\"----------------------------------------------------------\")\n",
    "    recs = results[id][:num]\n",
    "    for rec in recs:\n",
    "        print(\"You may also like to read: \" + item(rec[1]) + \" (score:\" + str(rec[0]) + \")\")\n",
    "\n",
    "#the first argument in the below function to be passed is the id of the book, second argument is the number of books you want to be recommended\n",
    "recommend(5,10)"
   ]
  },
  {
   "cell_type": "code",
   "execution_count": null,
   "metadata": {},
   "outputs": [],
   "source": []
  }
 ],
 "metadata": {
  "kernelspec": {
   "display_name": "Python 3",
   "language": "python",
   "name": "python3"
  },
  "language_info": {
   "codemirror_mode": {
    "name": "ipython",
    "version": 3
   },
   "file_extension": ".py",
   "mimetype": "text/x-python",
   "name": "python",
   "nbconvert_exporter": "python",
   "pygments_lexer": "ipython3",
   "version": "3.7.4"
  }
 },
 "nbformat": 4,
 "nbformat_minor": 2
}
