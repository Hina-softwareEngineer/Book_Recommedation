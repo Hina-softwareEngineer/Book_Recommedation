{
 "cells": [
  {
   "cell_type": "code",
   "execution_count": 1,
   "metadata": {},
   "outputs": [
    {
     "name": "stdout",
     "output_type": "stream",
     "text": [
      "Listening\n"
     ]
    },
    {
     "ename": "WaitTimeoutError",
     "evalue": "listening timed out while waiting for phrase to start",
     "output_type": "error",
     "traceback": [
      "\u001b[0;31m---------------------------------------------------------------------------\u001b[0m",
      "\u001b[0;31mWaitTimeoutError\u001b[0m                          Traceback (most recent call last)",
      "\u001b[0;32m<ipython-input-1-316296656057>\u001b[0m in \u001b[0;36m<module>\u001b[0;34m\u001b[0m\n\u001b[1;32m     42\u001b[0m         \u001b[0mprint\u001b[0m\u001b[0;34m(\u001b[0m\u001b[0;34m\"NO Internet Connection. \\nCheck your Internet Connection\"\u001b[0m\u001b[0;34m)\u001b[0m\u001b[0;34m\u001b[0m\u001b[0;34m\u001b[0m\u001b[0m\n\u001b[1;32m     43\u001b[0m     \u001b[0mprint\u001b[0m\u001b[0;34m(\u001b[0m\u001b[0;34m\"Completed\"\u001b[0m\u001b[0;34m)\u001b[0m\u001b[0;34m\u001b[0m\u001b[0;34m\u001b[0m\u001b[0m\n\u001b[0;32m---> 44\u001b[0;31m \u001b[0mspeech\u001b[0m\u001b[0;34m(\u001b[0m\u001b[0;34m)\u001b[0m\u001b[0;34m\u001b[0m\u001b[0;34m\u001b[0m\u001b[0m\n\u001b[0m",
      "\u001b[0;32m<ipython-input-1-316296656057>\u001b[0m in \u001b[0;36mspeech\u001b[0;34m()\u001b[0m\n\u001b[1;32m     16\u001b[0m             \u001b[0mprint\u001b[0m\u001b[0;34m(\u001b[0m\u001b[0;34m\"Listening\"\u001b[0m\u001b[0;34m)\u001b[0m\u001b[0;34m\u001b[0m\u001b[0;34m\u001b[0m\u001b[0m\n\u001b[1;32m     17\u001b[0m     \u001b[0;31m# read the audio data from the default microphone\u001b[0m\u001b[0;34m\u001b[0m\u001b[0;34m\u001b[0m\u001b[0;34m\u001b[0m\u001b[0m\n\u001b[0;32m---> 18\u001b[0;31m             \u001b[0maudio_data\u001b[0m \u001b[0;34m=\u001b[0m \u001b[0mr\u001b[0m\u001b[0;34m.\u001b[0m\u001b[0mlisten\u001b[0m\u001b[0;34m(\u001b[0m\u001b[0msource\u001b[0m\u001b[0;34m,\u001b[0m\u001b[0mtimeout\u001b[0m\u001b[0;34m=\u001b[0m\u001b[0;36m5\u001b[0m\u001b[0;34m)\u001b[0m\u001b[0;34m\u001b[0m\u001b[0;34m\u001b[0m\u001b[0m\n\u001b[0m\u001b[1;32m     19\u001b[0m             \u001b[0mprint\u001b[0m\u001b[0;34m(\u001b[0m\u001b[0;34m\"Time over\"\u001b[0m\u001b[0;34m)\u001b[0m\u001b[0;34m\u001b[0m\u001b[0;34m\u001b[0m\u001b[0m\n\u001b[1;32m     20\u001b[0m             \u001b[0mprint\u001b[0m\u001b[0;34m(\u001b[0m\u001b[0;34m\"Recognizing...\"\u001b[0m\u001b[0;34m)\u001b[0m\u001b[0;34m\u001b[0m\u001b[0;34m\u001b[0m\u001b[0m\n",
      "\u001b[0;32m~/anaconda3/lib/python3.7/site-packages/speech_recognition/__init__.py\u001b[0m in \u001b[0;36mlisten\u001b[0;34m(self, source, timeout, phrase_time_limit, snowboy_configuration)\u001b[0m\n\u001b[1;32m    616\u001b[0m                     \u001b[0melapsed_time\u001b[0m \u001b[0;34m+=\u001b[0m \u001b[0mseconds_per_buffer\u001b[0m\u001b[0;34m\u001b[0m\u001b[0;34m\u001b[0m\u001b[0m\n\u001b[1;32m    617\u001b[0m                     \u001b[0;32mif\u001b[0m \u001b[0mtimeout\u001b[0m \u001b[0;32mand\u001b[0m \u001b[0melapsed_time\u001b[0m \u001b[0;34m>\u001b[0m \u001b[0mtimeout\u001b[0m\u001b[0;34m:\u001b[0m\u001b[0;34m\u001b[0m\u001b[0;34m\u001b[0m\u001b[0m\n\u001b[0;32m--> 618\u001b[0;31m                         \u001b[0;32mraise\u001b[0m \u001b[0mWaitTimeoutError\u001b[0m\u001b[0;34m(\u001b[0m\u001b[0;34m\"listening timed out while waiting for phrase to start\"\u001b[0m\u001b[0;34m)\u001b[0m\u001b[0;34m\u001b[0m\u001b[0;34m\u001b[0m\u001b[0m\n\u001b[0m\u001b[1;32m    619\u001b[0m \u001b[0;34m\u001b[0m\u001b[0m\n\u001b[1;32m    620\u001b[0m                     \u001b[0mbuffer\u001b[0m \u001b[0;34m=\u001b[0m \u001b[0msource\u001b[0m\u001b[0;34m.\u001b[0m\u001b[0mstream\u001b[0m\u001b[0;34m.\u001b[0m\u001b[0mread\u001b[0m\u001b[0;34m(\u001b[0m\u001b[0msource\u001b[0m\u001b[0;34m.\u001b[0m\u001b[0mCHUNK\u001b[0m\u001b[0;34m)\u001b[0m\u001b[0;34m\u001b[0m\u001b[0;34m\u001b[0m\u001b[0m\n",
      "\u001b[0;31mWaitTimeoutError\u001b[0m: listening timed out while waiting for phrase to start"
     ]
    }
   ],
   "source": [
    "import urllib\n",
    "import speech_recognition as sr\n",
    "\n",
    "def connected(host='http://google.com'):\n",
    "    try:\n",
    "        urllib.request.urlopen(host)\n",
    "        return True\n",
    "    except:\n",
    "        return False\n",
    "\n",
    "def speech():\n",
    "    if connected():\n",
    "        r = sr.Recognizer()\n",
    "        with sr.Microphone() as source:\n",
    "            r.adjust_for_ambient_noise(source)\n",
    "            print(\"Listening\")\n",
    "    # read the audio data from the default microphone\n",
    "            audio_data = r.listen(source,timeout=5)\n",
    "            print(\"Time over\")\n",
    "            print(\"Recognizing...\")\n",
    "    # convert speech to text\n",
    "            text = r.recognize_google(audio_data ,language='en-UK', show_all=True)\n",
    "            try:\n",
    "                print(\"You said:\" )\n",
    "                if (len(text)>0):\n",
    "                    print(len(text[\"alternative\"]))\n",
    "                    for x in range(0,len(text[\"alternative\"])):\n",
    "                        print(text[\"alternative\"][x][\"transcript\"])\n",
    "                    print(text[\"alternative\"][0][\"transcript\"])\n",
    "                    print(text)\n",
    "                else:\n",
    "                    print(\"\\tNothing\")\n",
    "            except LookupError:\n",
    "                print(\"Could not Understand Value\")\n",
    "\n",
    "            except sr.UnknownValueError:\n",
    "                print(\"Voice Recognition could not understand audio\")\n",
    "\n",
    "            except sr.RequestError as e:\n",
    "                print(\"Voice Recognition could not request results ; {0}\".format(e))\n",
    "    else:\n",
    "        print(\"NO Internet Connection. \\nCheck your Internet Connection\")\n",
    "    print(\"Completed\")\n",
    "speech()   "
   ]
  },
  {
   "cell_type": "code",
   "execution_count": null,
   "metadata": {},
   "outputs": [],
   "source": []
  }
 ],
 "metadata": {
  "kernelspec": {
   "display_name": "Python 3",
   "language": "python",
   "name": "python3"
  },
  "language_info": {
   "codemirror_mode": {
    "name": "ipython",
    "version": 3
   },
   "file_extension": ".py",
   "mimetype": "text/x-python",
   "name": "python",
   "nbconvert_exporter": "python",
   "pygments_lexer": "ipython3",
   "version": "3.7.4"
  }
 },
 "nbformat": 4,
 "nbformat_minor": 2
}
