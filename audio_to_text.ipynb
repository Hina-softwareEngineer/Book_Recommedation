{
 "cells": [
  {
   "cell_type": "code",
   "execution_count": 104,
   "metadata": {},
   "outputs": [
    {
     "name": "stdout",
     "output_type": "stream",
     "text": [
      "Listening\n",
      "Time over\n",
      "Recognizing...\n",
      "You said:\n",
      "bacchon\n",
      "{'alternative': [{'transcript': 'bacchon', 'confidence': 0.63617837}, {'transcript': 'ke bacchon'}, {'transcript': 'bhai ko bacchon'}, {'transcript': 'ko bacchon'}, {'transcript': 'bhai ke bacchon'}], 'final': True}\n",
      "Completed\n"
     ]
    }
   ],
   "source": [
    "import urllib\n",
    "import speech_recognition as sr\n",
    "\n",
    "def connected(host='http://google.com'):\n",
    "    try:\n",
    "        urllib.request.urlopen(host)\n",
    "        return True\n",
    "    except:\n",
    "        return False\n",
    "\n",
    "if connected():\n",
    "    \n",
    "    r = sr.Recognizer()\n",
    "    with sr.Microphone() as source:\n",
    "        r.adjust_for_ambient_noise(source)\n",
    "        print(\"Listening\")\n",
    "    # read the audio data from the default microphone\n",
    "        audio_data = r.listen(source,timeout=5)\n",
    "        print(\"Time over\")\n",
    "        print(\"Recognizing...\")\n",
    "    # convert speech to text\n",
    "        text = r.recognize_google(audio_data ,language='en-UK', show_all=True)\n",
    "        try:\n",
    "            print(\"You said:\" )\n",
    "            if (len(text)>0):\n",
    "                print(text[\"alternative\"][0][\"transcript\"])\n",
    "                print(text)\n",
    "            else:\n",
    "                print(\"\\tNothing\")\n",
    "        except LookupError:\n",
    "            print(\"Could not Understand Value\")\n",
    "\n",
    "        except sr.UnknownValueError:\n",
    "            print(\"Voice Recognition could not understand audio\")\n",
    "\n",
    "        except sr.RequestError as e:\n",
    "            print(\"Voice Recognition could not request results ; {0}\".format(e))\n",
    "else:\n",
    "    print(\"NO Internet Connection. \\nCheck your Internet Connection\")\n",
    "print(\"Completed\")"
   ]
  },
  {
   "cell_type": "code",
   "execution_count": null,
   "metadata": {},
   "outputs": [],
   "source": []
  }
 ],
 "metadata": {
  "kernelspec": {
   "display_name": "Python 3",
   "language": "python",
   "name": "python3"
  },
  "language_info": {
   "codemirror_mode": {
    "name": "ipython",
    "version": 3
   },
   "file_extension": ".py",
   "mimetype": "text/x-python",
   "name": "python",
   "nbconvert_exporter": "python",
   "pygments_lexer": "ipython3",
   "version": "3.7.4"
  }
 },
 "nbformat": 4,
 "nbformat_minor": 2
}
